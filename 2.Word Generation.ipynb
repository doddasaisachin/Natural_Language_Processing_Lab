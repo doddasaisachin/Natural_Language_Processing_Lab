{
 "cells": [
  {
   "cell_type": "code",
   "execution_count": 1,
   "id": "6813c1e7",
   "metadata": {},
   "outputs": [
    {
     "name": "stdout",
     "output_type": "stream",
     "text": [
      "the socket ; yet I will probably not slip with a long enough in the candlestick in some years . Elton\n"
     ]
    }
   ],
   "source": [
    "\n",
    "import nltk\n",
    "import random\n",
    "# nltk.download('punkt')\n",
    "# nltk.download('gutenberg')\n",
    "\n",
    "words = nltk.corpus.gutenberg.words()\n",
    "\n",
    "bigrams = list(nltk.bigrams(words))\n",
    "\n",
    "starting_word = \"the\"\n",
    "generated_text = [starting_word]\n",
    "\n",
    "for _ in range(20):\n",
    "    possible_words = [word2 for (word1, word2) in bigrams if word1.lower() ==\n",
    "generated_text[-1].lower()]\n",
    "\n",
    "\n",
    "    next_word = random.choice(possible_words)\n",
    "    generated_text.append(next_word)\n",
    "\n",
    "print(' '.join(generated_text))\n"
   ]
  },
  {
   "cell_type": "code",
   "execution_count": null,
   "id": "a9b24d89",
   "metadata": {},
   "outputs": [],
   "source": []
  }
 ],
 "metadata": {
  "kernelspec": {
   "display_name": "Python 3 (ipykernel)",
   "language": "python",
   "name": "python3"
  },
  "language_info": {
   "codemirror_mode": {
    "name": "ipython",
    "version": 3
   },
   "file_extension": ".py",
   "mimetype": "text/x-python",
   "name": "python",
   "nbconvert_exporter": "python",
   "pygments_lexer": "ipython3",
   "version": "3.11.7"
  }
 },
 "nbformat": 4,
 "nbformat_minor": 5
}
