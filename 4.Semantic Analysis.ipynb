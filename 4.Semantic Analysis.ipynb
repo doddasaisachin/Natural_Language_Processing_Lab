{
 "cells": [
  {
   "cell_type": "code",
   "execution_count": 1,
   "id": "94363ba3",
   "metadata": {},
   "outputs": [
    {
     "name": "stdout",
     "output_type": "stream",
     "text": [
      "[======--------------------------------------------] 12.7% 210.8/1662.8MB downloaded"
     ]
    },
    {
     "name": "stderr",
     "output_type": "stream",
     "text": [
      "\n",
      "KeyboardInterrupt\n",
      "\n"
     ]
    }
   ],
   "source": [
    "# !pip install gensim\n",
    "# !pip install nltk\n",
    "\n",
    "nltk.download('punkt')\n",
    "import gensim.downloader as api\n",
    "from nltk.tokenize import word_tokenize\n",
    "\n",
    "word_vectors = api.load(\"word2vec-google-news-300\")\n",
    "\n",
    "sentences = [\n",
    "\"Natural language processing is a challenging but fascinating field.\",\n",
    "\"Word embeddings capture semantic meanings of words in a vector space.\"\n",
    "]\n",
    "\n",
    "tokenized_sentences = [word_tokenize(sentence.lower()) for sentence in sentences]\n",
    "\n",
    "for tokenized_sentence in tokenized_sentences:\n",
    "    for word in tokenized_sentence:\n",
    "        if word in word_vectors:\n",
    "            similar_words = word_vectors.most_similar(word)\n",
    "            print(f\"Words similar to '{word}': {similar_words}\")\n",
    "        else:\n",
    "            print(f\"'{word}' is not in the pre-trained Word2Vec model.\")"
   ]
  },
  {
   "cell_type": "code",
   "execution_count": null,
   "id": "337f5b0c",
   "metadata": {},
   "outputs": [],
   "source": []
  }
 ],
 "metadata": {
  "kernelspec": {
   "display_name": "Python 3 (ipykernel)",
   "language": "python",
   "name": "python3"
  },
  "language_info": {
   "codemirror_mode": {
    "name": "ipython",
    "version": 3
   },
   "file_extension": ".py",
   "mimetype": "text/x-python",
   "name": "python",
   "nbconvert_exporter": "python",
   "pygments_lexer": "ipython3",
   "version": "3.11.7"
  }
 },
 "nbformat": 4,
 "nbformat_minor": 5
}
